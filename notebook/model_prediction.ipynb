{
 "cells": [
  {
   "cell_type": "code",
   "execution_count": null,
   "metadata": {},
   "outputs": [],
   "source": [
    "import os\n",
    "os.chdir(\"..\")\n",
    "os.getcwd()"
   ]
  },
  {
   "cell_type": "code",
   "execution_count": null,
   "metadata": {},
   "outputs": [],
   "source": [
    "os.getcwd()"
   ]
  },
  {
   "cell_type": "markdown",
   "metadata": {},
   "source": [
    "# constants"
   ]
  },
  {
   "cell_type": "code",
   "execution_count": null,
   "metadata": {},
   "outputs": [],
   "source": [
    "from dataclasses import dataclass\n",
    "from text_summarization.utils import read_yaml\n",
    "\n",
    "\n",
    "CONFIG = read_yaml(\"config/config.yaml\")\n",
    "\n",
    "@dataclass(frozen=True)\n",
    "class PredictionConstants:\n",
    "    PREDICTION_ROOT_DIR_NAME = CONFIG.PREDICTION.ROOT_DIR_NAME\n",
    "    FILE_NAME = CONFIG.PREDICTION.FILE_NAME\n",
    "\n",
    "\n"
   ]
  },
  {
   "cell_type": "code",
   "execution_count": null,
   "metadata": {},
   "outputs": [],
   "source": [
    "print(\"PREDICTION_ROOT_DIR_NAME:\", PredictionConstants.PREDICTION_ROOT_DIR_NAME)\n",
    "print(\"FILE_NAME:\", PredictionConstants.FILE_NAME)"
   ]
  },
  {
   "cell_type": "markdown",
   "metadata": {},
   "source": [
    "# configuration"
   ]
  },
  {
   "cell_type": "code",
   "execution_count": null,
   "metadata": {},
   "outputs": [],
   "source": [
    "from dataclasses import dataclass\n",
    "from pathlib import Path\n",
    "import os\n",
    "\n",
    "\n",
    "@dataclass(frozen=True)\n",
    "class PredictionConfig:\n",
    "    PREDICTION_ROOT_DIR_PATH = Path(PredictionConstants.PREDICTION_ROOT_DIR_NAME)\n",
    "    FILE_PATH = os.path.join(PREDICTION_ROOT_DIR_PATH, PredictionConstants.FILE_NAME)\n",
    "\n",
    "\n"
   ]
  },
  {
   "cell_type": "code",
   "execution_count": null,
   "metadata": {},
   "outputs": [],
   "source": [
    "print(\"PREDICTION_ROOT_DIR_PATH:\", PredictionConfig.PREDICTION_ROOT_DIR_PATH)\n",
    "print(\"FILE_PATH:\", PredictionConfig.FILE_PATH)"
   ]
  },
  {
   "cell_type": "markdown",
   "metadata": {},
   "source": [
    "# pipeline"
   ]
  },
  {
   "cell_type": "code",
   "execution_count": null,
   "metadata": {},
   "outputs": [],
   "source": [
    "from dataclasses import dataclass\n",
    "from transformers import pipeline\n",
    "from datetime import datetime\n",
    "from transformers import AutoTokenizer, AutoModelForSeq2SeqLM\n",
    "from text_summarization.utils import  create_dirs, save_json\n",
    "\n",
    "\n",
    "@dataclass\n",
    "class PredictionPiepline:\n",
    "\n",
    "    def predict(self, text:str, tokenizer:AutoTokenizer, model:AutoModelForSeq2SeqLM, output_file_path:str):\n",
    "        time_stamp = datetime.now().strftime(\"%Y_%m_%d_%H_%M_%S\")\n",
    "        gen_kwargs = {\"length_penalty\": 0.8, \"num_beams\":8, \"max_length\": 128}\n",
    "\n",
    "        pipe = pipeline(\"summarization\", model=model, tokenizer=tokenizer)\n",
    "\n",
    "        output = pipe(text, **gen_kwargs)[0][\"summary_text\"]\n",
    "\n",
    "        # get directory and file name for output file\n",
    "        dir_path, file_name = os.path.split(output_file_path)\n",
    "        \n",
    "        # create dir for output file\n",
    "        create_dirs(dir_path)\n",
    "\n",
    "        # save output file to local\n",
    "        file_path = os.path.join(dir_path, f\"{time_stamp}_{file_name}\")\n",
    "        save_json({\"input\":text, \"output\":output}, file_path)\n",
    "\n",
    "        return output\n",
    "    \n",
    "\n"
   ]
  },
  {
   "cell_type": "code",
   "execution_count": null,
   "metadata": {},
   "outputs": [],
   "source": []
  }
 ],
 "metadata": {
  "kernelspec": {
   "display_name": "Python 3",
   "language": "python",
   "name": "python3"
  },
  "language_info": {
   "codemirror_mode": {
    "name": "ipython",
    "version": 3
   },
   "file_extension": ".py",
   "mimetype": "text/x-python",
   "name": "python",
   "nbconvert_exporter": "python",
   "pygments_lexer": "ipython3",
   "version": "3.12.0"
  }
 },
 "nbformat": 4,
 "nbformat_minor": 2
}
