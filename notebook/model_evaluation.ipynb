{
 "cells": [
  {
   "cell_type": "code",
   "execution_count": null,
   "metadata": {},
   "outputs": [],
   "source": [
    "import os\n",
    "os.chdir(\"..\")\n",
    "os.getcwd()"
   ]
  },
  {
   "cell_type": "code",
   "execution_count": null,
   "metadata": {},
   "outputs": [],
   "source": [
    "os.getcwd()"
   ]
  },
  {
   "cell_type": "markdown",
   "metadata": {},
   "source": [
    "# constants"
   ]
  },
  {
   "cell_type": "code",
   "execution_count": null,
   "metadata": {},
   "outputs": [],
   "source": [
    "from dataclasses import dataclass\n",
    "from text_summarization.utils import read_yaml\n",
    "\n",
    "\n",
    "CONFIG = read_yaml(\"config/config.yaml\")\n",
    "\n",
    "@dataclass(frozen=True)\n",
    "class ModelEvaluationConstants:\n",
    "    ARITFACTS_ROOT_DIR_NAME = CONFIG.ARITFACTS_ROOT_DIR_NAME\n",
    "    MODEL_ROOT_DIR_NAME = CONFIG.MODEL.ROOT_DIR_NAME\n",
    "    EVALUATION_ROOT_DIR_NAME = CONFIG.MODEL.EVALUATOR.ROOT_DIR_NAME\n",
    "    REPORT_FILE_NAME = CONFIG.MODEL.EVALUATOR.REPORT_FILE_NAME\n",
    "    PREDICTION_FILE_NAME = CONFIG.MODEL.EVALUATOR.PREDICTION_FILE_NAME\n",
    "\n",
    "\n"
   ]
  },
  {
   "cell_type": "code",
   "execution_count": null,
   "metadata": {},
   "outputs": [],
   "source": [
    "print(\"ARITFACTS_ROOT_DIR_NAME:\", ModelEvaluationConstants.ARITFACTS_ROOT_DIR_NAME)\n",
    "print(\"MODEL_ROOT_DIR_NAME:\", ModelEvaluationConstants.MODEL_ROOT_DIR_NAME)\n",
    "print(\"Evaluation_ROOT_DIR_NAME:\", ModelEvaluationConstants.EVALUATION_ROOT_DIR_NAME)\n",
    "print(\"REPORT_FILE_NAME:\", ModelEvaluationConstants.REPORT_FILE_NAME)\n",
    "print(\"PREDICTION_FILE_NAME:\", ModelEvaluationConstants.PREDICTION_FILE_NAME)"
   ]
  },
  {
   "cell_type": "markdown",
   "metadata": {},
   "source": [
    "# entity"
   ]
  },
  {
   "cell_type": "code",
   "execution_count": null,
   "metadata": {},
   "outputs": [],
   "source": [
    "from dataclasses import dataclass\n",
    "from pathlib import Path\n",
    "\n",
    "@dataclass(frozen=True)\n",
    "class ModelEvaluationArtifacts:\n",
    "    ARITFACTS_ROOT_DIR_PATH:Path\n",
    "    MODEL_ROOT_DIR_PATH:Path\n",
    "    EVALUATION_ROOT_DIR_PATH:Path\n",
    "    REPORT_FILE_PATH:Path\n",
    "    PREDICTION_FILE_PATH:Path\n",
    "\n",
    "\n",
    "\n"
   ]
  },
  {
   "cell_type": "markdown",
   "metadata": {},
   "source": [
    "# configuration"
   ]
  },
  {
   "cell_type": "code",
   "execution_count": null,
   "metadata": {},
   "outputs": [],
   "source": [
    "from text_summarization.configuration import __timestamp\n",
    "from dataclasses import dataclass\n",
    "import os\n",
    "\n",
    "\n",
    "@dataclass(frozen=True)\n",
    "class ModelEvaluationConfig:\n",
    "    \n",
    "    ARITFACTS_ROOT_DIR_PATH = os.path.join(ModelEvaluationConstants.ARITFACTS_ROOT_DIR_NAME, __timestamp)\n",
    "    MODEL_ROOT_DIR_PATH = os.path.join(ARITFACTS_ROOT_DIR_PATH, ModelEvaluationConstants.MODEL_ROOT_DIR_NAME)\n",
    "    EVALUATION_ROOT_DIR_PATH = os.path.join(MODEL_ROOT_DIR_PATH, ModelEvaluationConstants.EVALUATION_ROOT_DIR_NAME)\n",
    "    REPORT_FILE_PATH = os.path.join(EVALUATION_ROOT_DIR_PATH, ModelEvaluationConstants.REPORT_FILE_NAME)\n",
    "    PREDICTION_FILE_PATH = os.path.join(EVALUATION_ROOT_DIR_PATH, f\"{__timestamp}_{ModelEvaluationConstants.PREDICTION_FILE_NAME}\")\n",
    "\n",
    "\n"
   ]
  },
  {
   "cell_type": "code",
   "execution_count": null,
   "metadata": {},
   "outputs": [],
   "source": [
    "print(\"ARITFACTS_ROOT_DIR_PATH:\", ModelEvaluationConfig.ARITFACTS_ROOT_DIR_PATH)\n",
    "print(\"MODEL_ROOT_DIR_PATH:\", ModelEvaluationConfig.MODEL_ROOT_DIR_PATH)\n",
    "print(\"ModelEvaluation_ROOT_DIR_PATH:\", ModelEvaluationConfig.EVALUATION_ROOT_DIR_PATH)\n",
    "print(\"REPORT_FILE_PATH:\", ModelEvaluationConfig.REPORT_FILE_PATH)"
   ]
  },
  {
   "cell_type": "markdown",
   "metadata": {},
   "source": [
    "# components"
   ]
  },
  {
   "cell_type": "code",
   "execution_count": null,
   "metadata": {},
   "outputs": [],
   "source": [
    "from text_summarization.entity import DataTransformationArtifacts, ModelTrainerArtifacts\n",
    "from transformers import AutoModelForSeq2SeqLM, AutoTokenizer\n",
    "from text_summarization.exception import CustomException\n",
    "from text_summarization.utils import save_json, create_dirs\n",
    "from datasets import load_from_disk, load_metric\n",
    "from text_summarization.logger import logging\n",
    "from dataclasses import dataclass\n",
    "import datasets, torch, sys\n",
    "from tqdm import tqdm\n",
    "\n",
    "\n",
    "@dataclass\n",
    "class ModelEvaluationComponents:\n",
    "    __data_transformation_config: DataTransformationArtifacts\n",
    "    __model_trainer_config: ModelTrainerArtifacts\n",
    "    __model_evaluation_config: ModelEvaluationArtifacts\n",
    "\n",
    "    @staticmethod\n",
    "    def generate_batch_sized_chunks(list_of_elements:list, batch_size:int):\n",
    "        \"\"\"split the dataset into smaller batches that we can process simultaneously\n",
    "        Yield successive batch-sized chunks from list_of_elements.\n",
    "\n",
    "        Args:\n",
    "            list_of_elements (list): single column of input feature\n",
    "            batch_size (int): batch size\n",
    "\n",
    "        Yields:\n",
    "            Generator[list, Any, None]\n",
    "        \"\"\"\n",
    "        try:\n",
    "            for i in range(0, len(list_of_elements), batch_size):\n",
    "                yield list_of_elements[i : i + batch_size]\n",
    "        except Exception as e:\n",
    "            logging.exception(e)\n",
    "            raise CustomException(e, sys)\n",
    "\n",
    "    \n",
    "    def calculate_metric_on_test_ds(self, dataset:datasets.Dataset, metric_object, model:AutoModelForSeq2SeqLM, \n",
    "                                    tokenizer:AutoTokenizer, batch_size:int = 16, device:str = \"cpu\", \n",
    "                                    column_text:str = \"dialogue\", column_summary:str = \"summary\") -> dict:\n",
    "        \"\"\"calculates metrics for provided dataset with provide parameters\n",
    "\n",
    "        Args:\n",
    "            dataset (datasets.Dataset): test dataset to calculate model performance\n",
    "            metric_object (_type_): datasets.load_metric object\n",
    "            model (AutoModelForSeq2SeqLM): model for prediction\n",
    "            tokenizer (AutoTokenizer): tokenizer for tokenization\n",
    "            batch_size (int, optional): batch size to insert number of records at a time. Defaults to 16.\n",
    "            device (str, optional): device to initialize for performing this operation. Defaults to \"cpu\".\n",
    "            column_text (str): name of input features column. Defaults to \"dialogue\".\n",
    "            column_summary (str): name of output feature column. Defaults to \"summary\".\n",
    "\n",
    "        Returns:\n",
    "            dict: performance report in form of dictionary\n",
    "        \"\"\"\n",
    "        try:\n",
    "            article_batches = list(self.generate_batch_sized_chunks(dataset[column_text], batch_size))\n",
    "            target_batches = list(self.generate_batch_sized_chunks(dataset[column_summary], batch_size))\n",
    "\n",
    "            for article_batch, target_batch in tqdm(\n",
    "                zip(article_batches, target_batches), total=len(article_batches)):\n",
    "                \n",
    "                inputs = tokenizer(article_batch, max_length=1024,  truncation=True, \n",
    "                                padding=\"max_length\", return_tensors=\"pt\")\n",
    "                \n",
    "                summaries = model.generate(input_ids=inputs[\"input_ids\"].to(device),\n",
    "                                attention_mask=inputs[\"attention_mask\"].to(device), \n",
    "                                length_penalty=0.8, num_beams=8, max_length=128)\n",
    "                ''' parameter for length penalty ensures that the model does not generate sequences that are too long. '''\n",
    "                \n",
    "                # Finally, we decode the generated texts, \n",
    "                # replace the  token, and add the decoded texts with the references to the metric.\n",
    "                decoded_summaries = [tokenizer.decode(s, skip_special_tokens=True, \n",
    "                                        clean_up_tokenization_spaces=True) \n",
    "                    for s in summaries]      \n",
    "                \n",
    "                decoded_summaries = [d.replace(\"\", \" \") for d in decoded_summaries]\n",
    "                \n",
    "                \n",
    "                metric_object.add_batch(predictions=decoded_summaries, references=target_batch)\n",
    "                \n",
    "            #  Finally compute and return the ROUGE scores.\n",
    "            score = metric_object.compute()\n",
    "            return score\n",
    "        except Exception as e:\n",
    "            logging.exception(e)\n",
    "            raise CustomException(e, sys)\n",
    "\n",
    "\n",
    "    def evaluate(self) -> ModelEvaluationArtifacts:\n",
    "        \"\"\"Performs evaluation\n",
    "\n",
    "        Returns:\n",
    "            ModelEvaluationArtifacts: path of artifacts created while performing evaluation\n",
    "        \"\"\"\n",
    "        try:\n",
    "            # create required dir's\n",
    "            create_dirs(self.__model_evaluation_config.ARITFACTS_ROOT_DIR_PATH)\n",
    "            create_dirs(self.__model_evaluation_config.MODEL_ROOT_DIR_PATH)\n",
    "            create_dirs(self.__model_evaluation_config.EVALUATION_ROOT_DIR_PATH)\n",
    "\n",
    "            device = \"cuda\" if torch.cuda.is_available() else \"cpu\"\n",
    "            tokenizer = AutoTokenizer.from_pretrained(self.__data_transformation_config.TOKENIZER_PATH)\n",
    "            model_pegasus = AutoModelForSeq2SeqLM.from_pretrained(self.__model_trainer_config.FINETUNED_ESTIMATOR_PATH).to(device)\n",
    "        \n",
    "            #loading data \n",
    "            # dataset = load_from_disk(self.__data_transformation_config.TEST_DATA_DIR_PATH)\n",
    "            # loading less record data for faster report\n",
    "            dataset = load_from_disk(\"less_records_artifacts/test\")\n",
    "\n",
    "            rouge_names = [\"rouge1\", \"rouge2\", \"rougeL\", \"rougeLsum\"]\n",
    "    \n",
    "            rouge_metric = load_metric('rouge')\n",
    "\n",
    "            score = self.calculate_metric_on_test_ds(\n",
    "                dataset, rouge_metric, model_pegasus, tokenizer, batch_size = 1, \n",
    "                device=device, column_text = 'dialogue', column_summary= 'summary'\n",
    "            )\n",
    "\n",
    "            rouge_dict = dict((rn, score[rn].mid.fmeasure ) for rn in rouge_names )\n",
    "\n",
    "            # save report\n",
    "            report_path = self.__model_evaluation_config.REPORT_FILE_PATH\n",
    "            save_json(rouge_dict, report_path)\n",
    "\n",
    "            return self.__model_evaluation_config\n",
    "        except Exception as e:\n",
    "            logging.exception(e)\n",
    "            raise CustomException(e, sys)     \n",
    "        \n",
    "\n"
   ]
  },
  {
   "cell_type": "markdown",
   "metadata": {},
   "source": [
    "# pipeline"
   ]
  },
  {
   "cell_type": "code",
   "execution_count": null,
   "metadata": {},
   "outputs": [],
   "source": [
    "from text_summarization.configuration import (\n",
    "    DataTransformationConfig,\n",
    "    ModelTrainerConfig\n",
    ")\n",
    "from dataclasses import dataclass\n",
    "from text_summarization.logger import logging\n",
    "\n",
    "\n",
    "@dataclass\n",
    "class ModelEvaluationPipeline:\n",
    "\n",
    "    def main(self) -> None:\n",
    "        self.model_evaluator = ModelEvaluationComponents(DataTransformationConfig, ModelTrainerConfig, ModelEvaluationConfig)\n",
    "        self.model_evaluator.evaluate()\n",
    "\n",
    "\n",
    "\n",
    "\n",
    "\n",
    "STAGE_NAME = \"Model Evaluation\"\n",
    "\n",
    "if __name__==\"__main__\":\n",
    "    print(f\"\\n>>>>>>>>>>>>>>>>>>>>> {STAGE_NAME} initiated <<<<<<<<<<<<<<<<<<<<<\")\n",
    "    logging.info(f\"\\n>>>>>>>>>>>>>>>>>>>>> {STAGE_NAME} initiated <<<<<<<<<<<<<<<<<<<<<\")\n",
    "    obj = ModelEvaluationPipeline()\n",
    "    obj.main()\n",
    "    logging.info(f\"\\n>>>>>>>>>>>>>>>>>>>>> {STAGE_NAME} completed <<<<<<<<<<<<<<<<<<<<<\")\n",
    "    print(f\"\\n>>>>>>>>>>>>>>>>>>>>> {STAGE_NAME} completed <<<<<<<<<<<<<<<<<<<<<\")\n",
    "\n",
    "\n"
   ]
  },
  {
   "cell_type": "code",
   "execution_count": null,
   "metadata": {},
   "outputs": [],
   "source": []
  }
 ],
 "metadata": {
  "kernelspec": {
   "display_name": "Python 3",
   "language": "python",
   "name": "python3"
  },
  "language_info": {
   "codemirror_mode": {
    "name": "ipython",
    "version": 3
   },
   "file_extension": ".py",
   "mimetype": "text/x-python",
   "name": "python",
   "nbconvert_exporter": "python",
   "pygments_lexer": "ipython3",
   "version": "3.12.0"
  }
 },
 "nbformat": 4,
 "nbformat_minor": 2
}
