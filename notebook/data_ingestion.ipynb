{
 "cells": [
  {
   "cell_type": "code",
   "execution_count": null,
   "metadata": {},
   "outputs": [],
   "source": [
    "import os\n",
    "os.chdir(\"..\")"
   ]
  },
  {
   "cell_type": "code",
   "execution_count": null,
   "metadata": {},
   "outputs": [],
   "source": [
    "os.getcwd()"
   ]
  },
  {
   "cell_type": "markdown",
   "metadata": {},
   "source": [
    "# constants"
   ]
  },
  {
   "cell_type": "code",
   "execution_count": null,
   "metadata": {},
   "outputs": [],
   "source": [
    "from text_summarization.utils import read_yaml\n",
    "from dataclasses import dataclass\n",
    "from dotenv import load_dotenv\n",
    "import os\n",
    "\n",
    "\n",
    "load_dotenv()\n",
    "CONFIG = read_yaml(\"config/config.yaml\")\n",
    "\n",
    "@dataclass(frozen=True)\n",
    "class DataIngestionConstants:\n",
    "    # DIR'S\n",
    "    ARITFACTS_ROOT_DIR_NAME=CONFIG.ARITFACTS_ROOT_DIR_NAME\n",
    "    DATA_ROOT_DIR_NAME=CONFIG.DATA.ROOT_DIR_NAME\n",
    "    INGESTION_ROOT_DIR_NAME=CONFIG.DATA.INGESTION.ROOT_DIR_NAME\n",
    "    FEATURE_STORE_ROOT_DIR_NAME=CONFIG.DATA.INGESTION.FEATURE_STORE.ROOT_DIR_NAME\n",
    "    INGESTED_ROOT_DIR_NAME=CONFIG.DATA.INGESTION.INGESTED.ROOT_DIR_NAME\n",
    "    # FILES\n",
    "    ZIP_FILE_NAME=CONFIG.DATA.INGESTION.FEATURE_STORE.ZIP_FILE_NAME\n",
    "    # URI'S\n",
    "    SOURCE_URI=os.getenv(\"SOURCE_URI\")\n",
    "\n",
    "\n"
   ]
  },
  {
   "cell_type": "code",
   "execution_count": null,
   "metadata": {},
   "outputs": [],
   "source": [
    "print(\"ARITFACTS_ROOT_DIR_NAME:\", DataIngestionConstants.ARITFACTS_ROOT_DIR_NAME)\n",
    "print(\"DATA_ROOT_DIR_NAME:\", DataIngestionConstants.DATA_ROOT_DIR_NAME)\n",
    "print(\"INGESTION_ROOT_DIR_NAME:\", DataIngestionConstants.INGESTION_ROOT_DIR_NAME)\n",
    "print(\"FEATURE_STORE_ROOT_DIR_NAME:\", DataIngestionConstants.FEATURE_STORE_ROOT_DIR_NAME)\n",
    "print(\"INGESTED_ROOT_DIR_NAME:\", DataIngestionConstants.INGESTED_ROOT_DIR_NAME)\n",
    "print(\"ZIP_FILE_NAME:\", DataIngestionConstants.ZIP_FILE_NAME)\n",
    "print(\"SOURCE_URI:\", DataIngestionConstants.SOURCE_URI)"
   ]
  },
  {
   "cell_type": "markdown",
   "metadata": {},
   "source": [
    "# entity"
   ]
  },
  {
   "cell_type": "code",
   "execution_count": null,
   "metadata": {},
   "outputs": [],
   "source": [
    "from dataclasses import dataclass\n",
    "from pathlib import Path\n",
    "\n",
    "\n",
    "@dataclass(frozen=True)\n",
    "class DataIngestionArtifacts:\n",
    "    # DIR'S\n",
    "    ARITFACTS_ROOT_DIR_PATH:Path\n",
    "    DATA_ROOT_DIR_PATH:Path\n",
    "    INGESTION_ROOT_DIR_PATH:Path\n",
    "    FEATURE_STORE_ROOT_DIR_PATH:Path\n",
    "    INGESTED_ROOT_DIR_PATH:Path\n",
    "    # FILES\n",
    "    ZIP_FILE_PATH:str\n",
    "    # URI'S\n",
    "    SOURCE_URI:str\n",
    "\n",
    "\n"
   ]
  },
  {
   "cell_type": "markdown",
   "metadata": {},
   "source": [
    "# configuration"
   ]
  },
  {
   "cell_type": "code",
   "execution_count": null,
   "metadata": {},
   "outputs": [],
   "source": [
    "from dataclasses import dataclass\n",
    "from datetime import datetime\n",
    "import os\n",
    "\n",
    "\n",
    "@dataclass(frozen=True)\n",
    "class DataIngestionConfig:\n",
    "    # DIR'S\n",
    "    __timestamp = datetime.now().strftime(\"%Y_%m_%d_%H_%M_%S\")\n",
    "    ARITFACTS_ROOT_DIR_PATH = os.path.join(DataIngestionConstants.ARITFACTS_ROOT_DIR_NAME, __timestamp)\n",
    "    DATA_ROOT_DIR_PATH = os.path.join(ARITFACTS_ROOT_DIR_PATH, DataIngestionConstants.DATA_ROOT_DIR_NAME)\n",
    "    INGESTION_ROOT_DIR_PATH = os.path.join(DATA_ROOT_DIR_PATH, DataIngestionConstants.INGESTION_ROOT_DIR_NAME)\n",
    "    FEATURE_STORE_ROOT_DIR_PATH = os.path.join(INGESTION_ROOT_DIR_PATH, DataIngestionConstants.FEATURE_STORE_ROOT_DIR_NAME)\n",
    "    INGESTED_ROOT_DIR_PATH = os.path.join(INGESTION_ROOT_DIR_PATH, DataIngestionConstants.INGESTED_ROOT_DIR_NAME)\n",
    "    # FILES\n",
    "    ZIP_FILE_PATH = os.path.join(FEATURE_STORE_ROOT_DIR_PATH, DataIngestionConstants.ZIP_FILE_NAME)\n",
    "    # URI'S\n",
    "    SOURCE_URI = DataIngestionConstants.SOURCE_URI\n",
    "\n",
    "\n"
   ]
  },
  {
   "cell_type": "code",
   "execution_count": null,
   "metadata": {},
   "outputs": [],
   "source": [
    "print(\"ARITFACTS_ROOT_DIR_PATH:\", DataIngestionConfig.ARITFACTS_ROOT_DIR_PATH)\n",
    "print(\"DATA_ROOT_DIR_PATH:\", DataIngestionConfig.DATA_ROOT_DIR_PATH)\n",
    "print(\"INGESTION_ROOT_DIR_PATH:\", DataIngestionConfig.INGESTION_ROOT_DIR_PATH)\n",
    "print(\"FEATURE_STORE_ROOT_DIR_PATH:\", DataIngestionConfig.FEATURE_STORE_ROOT_DIR_PATH)\n",
    "print(\"INGESTED_ROOT_DIR_PATH:\", DataIngestionConfig.INGESTED_ROOT_DIR_PATH)\n",
    "print(\"ZIP_FILE_PATH:\", DataIngestionConfig.ZIP_FILE_PATH)\n",
    "print(\"SOURCE_URI:\", DataIngestionConfig.SOURCE_URI)"
   ]
  },
  {
   "cell_type": "markdown",
   "metadata": {},
   "source": [
    "# components"
   ]
  },
  {
   "cell_type": "code",
   "execution_count": null,
   "metadata": {},
   "outputs": [],
   "source": [
    "from text_summarization.exception import CustomException\n",
    "from text_summarization.logger import logging\n",
    "from text_summarization.utils import create_dirs\n",
    "from dataclasses import dataclass\n",
    "from urllib.request import urlretrieve\n",
    "from  zipfile import ZipFile\n",
    "import sys\n",
    "\n",
    "\n",
    "@dataclass\n",
    "class DataIngestionComponents:\n",
    "    __data_ingestion_config:DataIngestionArtifacts\n",
    "\n",
    "    @staticmethod\n",
    "    def __download(source_uri:str, zip_file_path:str) -> None:\n",
    "        \"\"\"Description: downloads the data zip file and saves locally\n",
    "\n",
    "        Args:\n",
    "            source_uri (str): uri for downloading\n",
    "            zip_file_path (str): path to save file locally\n",
    "        \"\"\"\n",
    "        try:\n",
    "            logging.info(\"Downloading........\")\n",
    "            urlretrieve(source_uri, zip_file_path)\n",
    "            logging.info(\"Download complete.\")            \n",
    "        except Exception as e:\n",
    "            logging.error(e)\n",
    "            CustomException(e, sys)\n",
    "    \n",
    "    @staticmethod\n",
    "    def __extract(zip_file_path:str, raw_data_dir:str) -> None:\n",
    "        \"\"\"Description: extracts the zip file into given path\n",
    "\n",
    "        Args:\n",
    "            zip_file_path (str): path of zip file needed to be extracted\n",
    "            raw_data_dir (str): path of directory for extraction\n",
    "        \"\"\"\n",
    "        try:\n",
    "\n",
    "            with ZipFile(zip_file_path, \"r\") as zip_ref:\n",
    "                zip_ref.extractall(raw_data_dir)\n",
    "                logging.info(\"zip extraction comleted.\")\n",
    "        except Exception as e:\n",
    "            logging.error(e)\n",
    "            raise CustomException(e, sys)\n",
    "    \n",
    "    def start_data_ingestion(self)->DataIngestionArtifacts:\n",
    "        \"\"\"Runs Data ingestion\n",
    "        \"\"\"\n",
    "        try:\n",
    "            # create required dir's\n",
    "            create_dirs(self.__data_ingestion_config.ARITFACTS_ROOT_DIR_PATH)\n",
    "            create_dirs(self.__data_ingestion_config.DATA_ROOT_DIR_PATH)\n",
    "            create_dirs(self.__data_ingestion_config.INGESTION_ROOT_DIR_PATH)\n",
    "            create_dirs(self.__data_ingestion_config.FEATURE_STORE_ROOT_DIR_PATH)\n",
    "            create_dirs(self.__data_ingestion_config.INGESTED_ROOT_DIR_PATH)\n",
    "\n",
    "            # get required variables\n",
    "            uri = self.__data_ingestion_config.SOURCE_URI\n",
    "            zip_file_path=self.__data_ingestion_config.ZIP_FILE_PATH\n",
    "            ingested_data_dir = self.__data_ingestion_config.INGESTED_ROOT_DIR_PATH\n",
    "\n",
    "            # run process\n",
    "            self.__download(uri, zip_file_path)\n",
    "            self.__extract(zip_file_path, ingested_data_dir)\n",
    "\n",
    "            return self.__data_ingestion_config\n",
    "        except Exception as e:\n",
    "            logging.exception(e)\n",
    "            raise CustomException(e, sys)\n",
    "        \n",
    "\n"
   ]
  },
  {
   "cell_type": "markdown",
   "metadata": {},
   "source": [
    "# pipeline"
   ]
  },
  {
   "cell_type": "code",
   "execution_count": null,
   "metadata": {},
   "outputs": [],
   "source": [
    "from dataclasses import dataclass\n",
    "\n",
    "\n",
    "@dataclass\n",
    "class DataIngestionPipeline:\n",
    "\n",
    "    def main(self) -> None:\n",
    "        self.data_ingestion = DataIngestionComponents(DataIngestionConfig)\n",
    "        self.data_ingestion.start_data_ingestion()\n",
    "\n",
    "\n",
    "\n",
    "\n",
    "\n",
    "STAGE_NAME = \"Data Ingestion\"\n",
    "\n",
    "if __name__==\"__main__\":\n",
    "    print(f\"\\n>>>>>>>>>>>>>>>>>>>>> {STAGE_NAME} initiated <<<<<<<<<<<<<<<<<<<<<\")\n",
    "    obj = DataIngestionPipeline()\n",
    "    obj.main()\n",
    "    print(f\"\\n>>>>>>>>>>>>>>>>>>>>> {STAGE_NAME} completed <<<<<<<<<<<<<<<<<<<<<\")\n",
    "\n",
    "\n"
   ]
  },
  {
   "cell_type": "code",
   "execution_count": null,
   "metadata": {},
   "outputs": [],
   "source": []
  }
 ],
 "metadata": {
  "kernelspec": {
   "display_name": "Python 3",
   "language": "python",
   "name": "python3"
  },
  "language_info": {
   "codemirror_mode": {
    "name": "ipython",
    "version": 3
   },
   "file_extension": ".py",
   "mimetype": "text/x-python",
   "name": "python",
   "nbconvert_exporter": "python",
   "pygments_lexer": "ipython3",
   "version": "3.12.0"
  }
 },
 "nbformat": 4,
 "nbformat_minor": 2
}
